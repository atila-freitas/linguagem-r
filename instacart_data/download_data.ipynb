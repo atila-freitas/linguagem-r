{
 "cells": [
  {
   "cell_type": "code",
   "execution_count": 19,
   "metadata": {},
   "outputs": [
    {
     "name": "stdout",
     "output_type": "stream",
     "text": [
      "Warning: Your Kaggle API key is readable by other users on this system! To fix this, you can run 'chmod 600 /Users/atila/.kaggle/kaggle.json'\n",
      "Downloading instacart-market-basket-analysis.zip to /Users/atila/Desktop/Atila/python-data-science/instacart_data\n",
      "100%|███████████████████████████████████████▉| 196M/196M [01:38<00:00, 1.71MB/s]\n",
      "100%|████████████████████████████████████████| 196M/196M [01:38<00:00, 2.10MB/s]\n"
     ]
    }
   ],
   "source": [
    "# Dowload files of competition\n",
    "!kaggle competitions download -c instacart-market-basket-analysis"
   ]
  },
  {
   "cell_type": "code",
   "execution_count": 20,
   "metadata": {},
   "outputs": [],
   "source": [
    "import glob, os, zipfile\n",
    "\n",
    "while(glob.glob(\"*.zip\")):\n",
    "    for filename in glob.glob(\"*.zip\"):\n",
    "        dir_path = os.path.dirname(os.path.realpath(filename))\n",
    "        archive = zipfile.ZipFile(os.path.join(dir_path, filename), mode='r')\n",
    "        archive.extractall(path=dir_path)\n",
    "        os.remove(filename)"
   ]
  },
  {
   "cell_type": "code",
   "execution_count": 21,
   "metadata": {},
   "outputs": [],
   "source": [
    "for filename in glob.glob(\"*.csv\"):\n",
    "    dir_path = os.path.dirname(os.path.realpath(filename))\n",
    "    os.rename(os.path.realpath(filename), dir_path + \"/data/\" + filename)"
   ]
  },
  {
   "cell_type": "code",
   "execution_count": null,
   "metadata": {},
   "outputs": [],
   "source": []
  }
 ],
 "metadata": {
  "kernelspec": {
   "display_name": "Python 3",
   "language": "python",
   "name": "python3"
  },
  "language_info": {
   "codemirror_mode": {
    "name": "ipython",
    "version": 3
   },
   "file_extension": ".py",
   "mimetype": "text/x-python",
   "name": "python",
   "nbconvert_exporter": "python",
   "pygments_lexer": "ipython3",
   "version": "3.7.9"
  }
 },
 "nbformat": 4,
 "nbformat_minor": 4
}
